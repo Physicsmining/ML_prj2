{
 "cells": [
  {
   "cell_type": "markdown",
   "metadata": {},
   "source": [
    "# WosClient"
   ]
  },
  {
   "cell_type": "code",
   "execution_count": 1,
   "metadata": {},
   "outputs": [],
   "source": [
    "# !pip install suds-jurko\n",
    "\n",
    "from suds import client\n",
    "from base64 import b64encode as _b64encode\n",
    "from collections import OrderedDict as _OrderedDict\n",
    "\n",
    "class WosClient():\n",
    "    \"\"\"Query the Web of Science.\n",
    "       You must provide user and password only to user premium WWS service.\n",
    "       with WosClient() as wos:\n",
    "           results = wos.search(...)\"\"\"\n",
    "\n",
    "    base_url = 'http://search.webofknowledge.com'\n",
    "    auth_url = base_url + '/esti/wokmws/ws/WOKMWSAuthenticate?wsdl'\n",
    "    search_url = base_url + '/esti/wokmws/ws/WokSearch?wsdl'\n",
    "    searchlite_url = base_url + '/esti/wokmws/ws/WokSearchLite?wsdl'\n",
    "\n",
    "    def __init__(self, user=None, password=None, SID=None, close_on_exit=True,\n",
    "                 lite=False):\n",
    "        \"\"\"Create the SOAP clients. user and password for premium access.\"\"\"\n",
    "\n",
    "        self._SID = SID\n",
    "        self._close_on_exit = close_on_exit\n",
    "        search_wsdl = self.searchlite_url if lite else self.search_url\n",
    "        self._auth = client.Client(self.auth_url)\n",
    "        self._search = client.Client(search_wsdl)\n",
    "\n",
    "        if user and password:\n",
    "            auth = '%s:%s' % (user, password)\n",
    "            auth = _b64encode(auth.encode('utf-8')).decode('utf-8')\n",
    "            headers = {'Authorization': ('Basic %s' % auth).strip()}\n",
    "            self._auth.set_options(headers=headers)\n",
    "\n",
    "    def __enter__(self):\n",
    "        \"\"\"Automatically connect when used with 'with' statements.\"\"\"\n",
    "        self.connect()\n",
    "        return self\n",
    "\n",
    "    def __exit__(self, exc_type, exc_value, traceback):\n",
    "        \"\"\"Close connection after closing the 'with' statement.\"\"\"\n",
    "        if self._close_on_exit:\n",
    "            self.close()\n",
    "\n",
    "    def __del__(self):\n",
    "        \"\"\"Close connection when deleting the object.\"\"\"\n",
    "        if self._close_on_exit:\n",
    "            self.close()\n",
    "\n",
    "    def connect(self):\n",
    "        \"\"\"Authenticate to WOS and set the SID cookie.\"\"\"\n",
    "        if not self._SID:\n",
    "            self._SID = self._auth.service.authenticate()\n",
    "            print('Authenticated (SID: %s)' % self._SID)\n",
    "\n",
    "        self._search.set_options(headers={'Cookie': 'SID=\"%s\"' % self._SID})\n",
    "        self._auth.options.headers.update({'Cookie': 'SID=\"%s\"' % self._SID})\n",
    "        return self._SID\n",
    "\n",
    "    def close(self):\n",
    "        \"\"\"Close the session.\"\"\"\n",
    "        if self._SID:\n",
    "            self._auth.service.closeSession()\n",
    "            self._SID = None\n",
    "\n",
    "    def search(self, query, count=100, offset=1):\n",
    "    # def search(self, query, offset=1):\n",
    "        \"\"\"Perform a query. Check the WOS documentation for v3 syntax.\"\"\"\n",
    "        if not self._SID:\n",
    "            raise RuntimeError('Session not open. Invoke .connect() before.')\n",
    "\n",
    "        qparams = _OrderedDict([('databaseId', 'WOS'),\n",
    "                                ('userQuery', query),\n",
    "                                ('queryLanguage', 'en')])\n",
    "\n",
    "        rparams = _OrderedDict([('firstRecord', offset),\n",
    "                                ('count', count),\n",
    "                                ('sortField', _OrderedDict([('name', 'RS'),\n",
    "                                                            ('sort', 'D')]))])\n",
    "\n",
    "        return self._search.service.search(qparams, rparams)"
   ]
  },
  {
   "cell_type": "code",
   "execution_count": 2,
   "metadata": {},
   "outputs": [],
   "source": [
    "\n",
    "from xml.etree import ElementTree as _ET\n",
    "from xml.dom import minidom as _minidom\n",
    "import re as _re\n",
    "\n",
    "def single(wosclient, wos_query, xml_query=None, count=10, offset=1):\n",
    "    \"\"\"Perform a single Web of Science query and then XML query the results.\"\"\"\n",
    "    result = wosclient.search(wos_query, count, offset)\n",
    "    print (result)\n",
    "    xml = _re.sub(' xmlns=\"[^\"]+\"', '', result.records, count=1).encode('utf-8')\n",
    "    if xml_query:\n",
    "        xml = _ET.fromstring(xml)\n",
    "        return [el.text for el in xml.findall(xml_query)]\n",
    "    else:\n",
    "        return _minidom.parseString(xml).toprettyxml()\n",
    "\n",
    "def query(wosclient, wos_query, xml_query=None, count=10, offset=1, limit=100):\n",
    "    \"\"\"Query Web of Science and XML query results with multiple requests.\"\"\"\n",
    "    results = [single(wosclient, wos_query, xml_query, min(limit, count-x+1), x) for x in range(offset, count+1, limit)]\n",
    "    if xml_query:\n",
    "        return [el for res in results for el in res]\n",
    "    else:\n",
    "        pattern = _re.compile(r'.*?<records>|</records>.*', _re.DOTALL)\n",
    "        return ('<?xml version=\"1.0\" ?>\\n<records>' +\n",
    "                '\\n'.join(pattern.sub('', res) for res in results) +\n",
    "                '</records>')\n",
    "\n",
    "def doi_to_wos(wosclient, doi):\n",
    "    \"\"\"Convert DOI to WOS identifier.\"\"\"\n",
    "    results = query(wosclient, 'DO=%s' % doi, './REC/UID', count=1)\n",
    "    return results[0].lstrip('WOS:') if results else None"
   ]
  },
  {
   "cell_type": "code",
   "execution_count": 3,
   "metadata": {},
   "outputs": [
    {
     "name": "stdout",
     "output_type": "stream",
     "text": [
      "Authenticated (SID: E1W4GlLGIGwYXS1xA2W)\n"
     ]
    },
    {
     "data": {
      "text/plain": [
       "E1W4GlLGIGwYXS1xA2W"
      ]
     },
     "execution_count": 3,
     "metadata": {},
     "output_type": "execute_result"
    }
   ],
   "source": [
    "soap = WosClient(lite=True)\n",
    "soap.connect()"
   ]
  },
  {
   "cell_type": "code",
   "execution_count": 6,
   "metadata": {},
   "outputs": [],
   "source": [
    "import math"
   ]
  },
  {
   "cell_type": "code",
   "execution_count": 4,
   "metadata": {},
   "outputs": [],
   "source": [
    "# The previous function to search results has been transformed to pub_of_author\n",
    "def pub_of_author(Querystring):\n",
    "    results = soap.search(Querystring, offset = 1)\n",
    "    if results.recordsFound > 100:\n",
    "        new_records = results.records\n",
    "        for i in range(math.ceil(results.recordsFound/100)-1):\n",
    "            new_records = new_records + soap.search(Querystring, offset = (i+1)*100+1).records\n",
    "        results.records = new_records\n",
    "    return results\n"
   ]
  },
  {
   "cell_type": "code",
   "execution_count": 7,
   "metadata": {},
   "outputs": [],
   "source": [
    "result = pub_of_author(\"AU='YILMAZ MUSTAFA'\")"
   ]
  },
  {
   "cell_type": "code",
   "execution_count": 9,
   "metadata": {},
   "outputs": [
    {
     "data": {
      "text/plain": [
       "731"
      ]
     },
     "execution_count": 9,
     "metadata": {},
     "output_type": "execute_result"
    }
   ],
   "source": [
    "len(result.records) # found all 731 papers"
   ]
  },
  {
   "cell_type": "code",
   "execution_count": null,
   "metadata": {},
   "outputs": [],
   "source": []
  }
 ],
 "metadata": {
  "kernelspec": {
   "display_name": "Python 3",
   "language": "python",
   "name": "python3"
  },
  "language_info": {
   "codemirror_mode": {
    "name": "ipython",
    "version": 3
   },
   "file_extension": ".py",
   "mimetype": "text/x-python",
   "name": "python",
   "nbconvert_exporter": "python",
   "pygments_lexer": "ipython3",
   "version": "3.6.5"
  }
 },
 "nbformat": 4,
 "nbformat_minor": 2
}
